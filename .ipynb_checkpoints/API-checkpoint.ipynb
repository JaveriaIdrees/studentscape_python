{
 "cells": [
  {
   "cell_type": "code",
   "execution_count": 1,
   "id": "90d916ca",
   "metadata": {},
   "outputs": [
    {
     "ename": "ModuleNotFoundError",
     "evalue": "No module named 'flask_cors'",
     "output_type": "error",
     "traceback": [
      "\u001b[1;31m---------------------------------------------------------------------------\u001b[0m",
      "\u001b[1;31mModuleNotFoundError\u001b[0m                       Traceback (most recent call last)",
      "\u001b[1;32m<ipython-input-1-080847a1c11d>\u001b[0m in \u001b[0;36m<module>\u001b[1;34m\u001b[0m\n\u001b[0;32m      9\u001b[0m \u001b[1;32mfrom\u001b[0m \u001b[0msubprocess\u001b[0m \u001b[1;32mimport\u001b[0m \u001b[0mcheck_output\u001b[0m\u001b[1;33m\u001b[0m\u001b[1;33m\u001b[0m\u001b[0m\n\u001b[0;32m     10\u001b[0m \u001b[1;32mfrom\u001b[0m \u001b[0mflask\u001b[0m \u001b[1;32mimport\u001b[0m \u001b[0mFlask\u001b[0m\u001b[1;33m\u001b[0m\u001b[1;33m\u001b[0m\u001b[0m\n\u001b[1;32m---> 11\u001b[1;33m \u001b[1;32mfrom\u001b[0m \u001b[0mflask_cors\u001b[0m \u001b[1;32mimport\u001b[0m \u001b[0mCORS\u001b[0m\u001b[1;33m,\u001b[0m \u001b[0mcross_origin\u001b[0m\u001b[1;33m\u001b[0m\u001b[1;33m\u001b[0m\u001b[0m\n\u001b[0m\u001b[0;32m     12\u001b[0m \u001b[1;32mimport\u001b[0m \u001b[0msys\u001b[0m\u001b[1;33m\u001b[0m\u001b[1;33m\u001b[0m\u001b[0m\n",
      "\u001b[1;31mModuleNotFoundError\u001b[0m: No module named 'flask_cors'"
     ]
    }
   ],
   "source": [
    "## Flask\n",
    "import pandas as pd\n",
    "import numpy as np\n",
    "from sklearn.feature_extraction.text import CountVectorizer, TfidfVectorizer\n",
    "import nltk\n",
    "from sklearn.metrics.pairwise import cosine_similarity\n",
    "from sklearn.model_selection import cross_val_score\n",
    "from sklearn.metrics.pairwise import euclidean_distances\n",
    "from subprocess import check_output\n",
    "from flask import Flask"
   ]
  },
  {
   "cell_type": "code",
   "execution_count": null,
   "id": "6f89ee8e",
   "metadata": {},
   "outputs": [],
   "source": [
    "app = Flask(__name__)\n",
    "CORS(app)\n",
    "print(sys.path)\n",
    "df=pd.read_csv(\"C:/Users/Javeria/Downloads/FYP-Python/DATASET.csv\",sep=\",\")\n",
    "features = ['Major Subjects in Matric', 'Matric Percentage', 'Major in Intermediate', 'Intermediate Percentage',\n",
    "           'Favorite Subject', 'Area of Interest']\n",
    "for feature in features:\n",
    "    df[feature] = df[feature].fillna('')\n",
    "\n",
    "def combined_features(row):\n",
    "    return str(row['Major Subjects in Matric'])+\" \"+str(row['Matric Percentage'])+\" \"+str(row['Major in Intermediate'])+\" \"+str(row['Intermediate Percentage'])+\" \"+str(row['Favorite Subject'])+\" \"+str(row['Area of Interest'])\n",
    "df[\"combined_features\"] = df.apply(combined_features, axis =1)\n",
    "vectorizer = TfidfVectorizer(\n",
    "                     binary=False,\n",
    "#                      max_df=0.95, \n",
    "#                      min_df=0.15,\n",
    "                     ngram_range = (1,2),use_idf = False, norm = None)\n",
    "doc_vectors = vectorizer.fit_transform(df['combined_features'])\n",
    "# cv.get_feature_names()\n",
    "def comp_description(query, results_number=20):\n",
    "        results=[]\n",
    "        q_vector = vectorizer.transform([query])\n",
    "        print(\"Comparable Description: \", query)\n",
    "        results.append(cosine_similarity(q_vector, doc_vectors.toarray()))\n",
    "        f=0\n",
    "        elem_list=[]\n",
    "        for i in results[:10]:\n",
    "            for elem in i[0]:\n",
    "                    #print(\"Review\",f, \"Similarity: \", elem)\n",
    "                    elem_list.append(elem)\n",
    "                    f+=1\n",
    "            print(\"Most Similar to Given Input #\" ,elem_list.index(max(elem_list)))\n",
    "            print(\"Similarity: \", max(elem_list))\n",
    "            if sum(elem_list) / len(elem_list)==0.0:\n",
    "                print(\"No similar descriptions\")\n",
    "            else:\n",
    "                print(df['combined_features'].loc[elem_list.index(max(elem_list)):elem_list.index(max(elem_list))])\n",
    "                print(df['Current Domain'].loc[elem_list.index(max(elem_list))])\n",
    "                global x\n",
    "                x = (df['Current Domain'].loc[elem_list.index(max(elem_list))])\n",
    "\n",
    "\n",
    "@app.route('/hello/',methods=['GET'])\n",
    "def hello():\n",
    "    comp_description(\"Matric ICS 50.0 Computer 60 - 75 Software \")\n",
    "    return x\n",
    "\n",
    "if __name__ == '__main__':\n",
    "    app.run()"
   ]
  },
  {
   "cell_type": "code",
   "execution_count": null,
   "id": "c75ff2fe",
   "metadata": {},
   "outputs": [],
   "source": []
  }
 ],
 "metadata": {
  "kernelspec": {
   "display_name": "Python 3",
   "language": "python",
   "name": "python3"
  },
  "language_info": {
   "codemirror_mode": {
    "name": "ipython",
    "version": 3
   },
   "file_extension": ".py",
   "mimetype": "text/x-python",
   "name": "python",
   "nbconvert_exporter": "python",
   "pygments_lexer": "ipython3",
   "version": "3.8.8"
  }
 },
 "nbformat": 4,
 "nbformat_minor": 5
}
